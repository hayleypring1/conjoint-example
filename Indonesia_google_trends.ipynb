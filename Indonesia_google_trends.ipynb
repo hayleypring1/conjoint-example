{
  "nbformat": 4,
  "nbformat_minor": 0,
  "metadata": {
    "colab": {
      "provenance": [],
      "authorship_tag": "ABX9TyPxnfFOIxg5z63J2Rd7oqx5",
      "include_colab_link": true
    },
    "kernelspec": {
      "name": "python3",
      "display_name": "Python 3"
    },
    "language_info": {
      "name": "python"
    }
  },
  "cells": [
    {
      "cell_type": "markdown",
      "metadata": {
        "id": "view-in-github",
        "colab_type": "text"
      },
      "source": [
        "<a href=\"https://colab.research.google.com/github/hayleypring1/conjoint-example/blob/master/Indonesia_google_trends.ipynb\" target=\"_parent\"><img src=\"https://colab.research.google.com/assets/colab-badge.svg\" alt=\"Open In Colab\"/></a>"
      ]
    },
    {
      "cell_type": "code",
      "execution_count": 1,
      "metadata": {
        "colab": {
          "base_uri": "https://localhost:8080/"
        },
        "id": "nwumEc8_HH_U",
        "outputId": "1f59f354-7dca-41b3-b628-1e685e35f869"
      },
      "outputs": [
        {
          "output_type": "stream",
          "name": "stdout",
          "text": [
            "Collecting pytrends\n",
            "  Downloading pytrends-4.9.2-py3-none-any.whl (15 kB)\n",
            "Requirement already satisfied: requests>=2.0 in /usr/local/lib/python3.10/dist-packages (from pytrends) (2.31.0)\n",
            "Requirement already satisfied: pandas>=0.25 in /usr/local/lib/python3.10/dist-packages (from pytrends) (1.5.3)\n",
            "Requirement already satisfied: lxml in /usr/local/lib/python3.10/dist-packages (from pytrends) (4.9.4)\n",
            "Requirement already satisfied: python-dateutil>=2.8.1 in /usr/local/lib/python3.10/dist-packages (from pandas>=0.25->pytrends) (2.8.2)\n",
            "Requirement already satisfied: pytz>=2020.1 in /usr/local/lib/python3.10/dist-packages (from pandas>=0.25->pytrends) (2023.4)\n",
            "Requirement already satisfied: numpy>=1.21.0 in /usr/local/lib/python3.10/dist-packages (from pandas>=0.25->pytrends) (1.25.2)\n",
            "Requirement already satisfied: charset-normalizer<4,>=2 in /usr/local/lib/python3.10/dist-packages (from requests>=2.0->pytrends) (3.3.2)\n",
            "Requirement already satisfied: idna<4,>=2.5 in /usr/local/lib/python3.10/dist-packages (from requests>=2.0->pytrends) (3.6)\n",
            "Requirement already satisfied: urllib3<3,>=1.21.1 in /usr/local/lib/python3.10/dist-packages (from requests>=2.0->pytrends) (2.0.7)\n",
            "Requirement already satisfied: certifi>=2017.4.17 in /usr/local/lib/python3.10/dist-packages (from requests>=2.0->pytrends) (2024.2.2)\n",
            "Requirement already satisfied: six>=1.5 in /usr/local/lib/python3.10/dist-packages (from python-dateutil>=2.8.1->pandas>=0.25->pytrends) (1.16.0)\n",
            "Installing collected packages: pytrends\n",
            "Successfully installed pytrends-4.9.2\n"
          ]
        }
      ],
      "source": [
        "!pip install pytrends\n",
        "\n",
        "\n",
        "\n"
      ]
    },
    {
      "cell_type": "code",
      "source": [
        "import pandas as pd\n",
        "from pytrends.request import TrendReq\n",
        "from datetime import datetime, timedelta\n",
        "import time\n",
        "import os\n",
        "\n",
        "pytrends = TrendReq(hl='en-US', tz=360)\n",
        "kw_list = [\"perubahan iklim\"]\n",
        "\n",
        "# Define the time frame\n",
        "start_date = datetime(2010, 1, 1)\n",
        "end_date = datetime(2010, 2, 1)\n",
        "\n",
        "# Create a list of intervals covering every month\n",
        "intervals = []\n",
        "current_date = start_date\n",
        "while current_date <= end_date:\n",
        "    current_month_end = current_date + pd.offsets.MonthEnd(0)\n",
        "    intervals.append((current_date, current_month_end))\n",
        "    current_date = current_month_end + timedelta(days=1)\n",
        "\n",
        "print(intervals)"
      ],
      "metadata": {
        "colab": {
          "base_uri": "https://localhost:8080/"
        },
        "id": "ZOh0hJ11Huo5",
        "outputId": "97e196c5-fd39-4f5a-d6b9-a32c6c0719ec"
      },
      "execution_count": 3,
      "outputs": [
        {
          "output_type": "stream",
          "name": "stdout",
          "text": [
            "[(datetime.datetime(2010, 1, 1, 0, 0), Timestamp('2010-01-31 00:00:00')), (Timestamp('2010-02-01 00:00:00'), Timestamp('2010-02-28 00:00:00'))]\n"
          ]
        }
      ]
    },
    {
      "cell_type": "code",
      "source": [
        "# Initialize an empty DataFrame to store all results\n",
        "all_results_df = pd.DataFrame()\n",
        "\n",
        "# Iterate through each interval\n",
        "for interval in intervals:\n",
        "    start_interval, end_interval = interval\n",
        "\n",
        "    pytrends.build_payload(kw_list, cat=0, timeframe=f'{start_interval.strftime(\"%Y-%m-%d\")} {end_interval.strftime(\"%Y-%m-%d\")}', geo='ID', gprop='')\n",
        "\n",
        "    # Assuming you want to store the interest by region data in a DataFrame\n",
        "    interest_by_region_df = pytrends.interest_by_region(resolution='REGION', inc_low_vol=True, inc_geo_code=False)\n",
        "\n",
        "    # Reset index to include region names in the DataFrame\n",
        "    interest_by_region_df.reset_index(inplace=True)\n",
        "\n",
        "    # Add a column for the month searched\n",
        "    interest_by_region_df['Month_Searched'] = start_interval.strftime(\"%Y-%m\")\n",
        "\n",
        "    # Export the DataFrame to a CSV file\n",
        "    csv_filename = f'interest_by_region_data_{start_interval.strftime(\"%Y-%m\")}.csv'\n",
        "    interest_by_region_df.to_csv(csv_filename, index=False)\n",
        "\n",
        "    # Append the results to the main DataFrame\n",
        "    all_results_df = pd.concat([all_results_df, interest_by_region_df], ignore_index=True)\n",
        "\n",
        "    # Sleep for 3 seconds to avoid rate-limiting\n",
        "    time.sleep(25)\n",
        "\n",
        "# Export the combined DataFrame to a CSV file\n",
        "all_results_df.to_csv('combined_interest_by_region_data.csv', index=False)\n",
        "\n",
        "print(pytrends)"
      ],
      "metadata": {
        "id": "gliqt-iyIQRH",
        "colab": {
          "base_uri": "https://localhost:8080/",
          "height": 400
        },
        "outputId": "ebde819f-2678-4854-9ded-246a5bd7c6e1"
      },
      "execution_count": 5,
      "outputs": [
        {
          "output_type": "error",
          "ename": "TooManyRequestsError",
          "evalue": "The request failed: Google returned a response with code 429",
          "traceback": [
            "\u001b[0;31m---------------------------------------------------------------------------\u001b[0m",
            "\u001b[0;31mTooManyRequestsError\u001b[0m                      Traceback (most recent call last)",
            "\u001b[0;32m<ipython-input-5-d30b5d36b2fb>\u001b[0m in \u001b[0;36m<cell line: 5>\u001b[0;34m()\u001b[0m\n\u001b[1;32m      9\u001b[0m \u001b[0;34m\u001b[0m\u001b[0m\n\u001b[1;32m     10\u001b[0m     \u001b[0;31m# Assuming you want to store the interest by region data in a DataFrame\u001b[0m\u001b[0;34m\u001b[0m\u001b[0;34m\u001b[0m\u001b[0m\n\u001b[0;32m---> 11\u001b[0;31m     \u001b[0minterest_by_region_df\u001b[0m \u001b[0;34m=\u001b[0m \u001b[0mpytrends\u001b[0m\u001b[0;34m.\u001b[0m\u001b[0minterest_by_region\u001b[0m\u001b[0;34m(\u001b[0m\u001b[0mresolution\u001b[0m\u001b[0;34m=\u001b[0m\u001b[0;34m'REGION'\u001b[0m\u001b[0;34m,\u001b[0m \u001b[0minc_low_vol\u001b[0m\u001b[0;34m=\u001b[0m\u001b[0;32mTrue\u001b[0m\u001b[0;34m,\u001b[0m \u001b[0minc_geo_code\u001b[0m\u001b[0;34m=\u001b[0m\u001b[0;32mFalse\u001b[0m\u001b[0;34m)\u001b[0m\u001b[0;34m\u001b[0m\u001b[0;34m\u001b[0m\u001b[0m\n\u001b[0m\u001b[1;32m     12\u001b[0m \u001b[0;34m\u001b[0m\u001b[0m\n\u001b[1;32m     13\u001b[0m     \u001b[0;31m# Reset index to include region names in the DataFrame\u001b[0m\u001b[0;34m\u001b[0m\u001b[0;34m\u001b[0m\u001b[0m\n",
            "\u001b[0;32m/usr/local/lib/python3.10/dist-packages/pytrends/request.py\u001b[0m in \u001b[0;36minterest_by_region\u001b[0;34m(self, resolution, inc_low_vol, inc_geo_code)\u001b[0m\n\u001b[1;32m    338\u001b[0m \u001b[0;34m\u001b[0m\u001b[0m\n\u001b[1;32m    339\u001b[0m         \u001b[0;31m# parse returned json\u001b[0m\u001b[0;34m\u001b[0m\u001b[0;34m\u001b[0m\u001b[0m\n\u001b[0;32m--> 340\u001b[0;31m         req_json = self._get_data(\n\u001b[0m\u001b[1;32m    341\u001b[0m             \u001b[0murl\u001b[0m\u001b[0;34m=\u001b[0m\u001b[0mTrendReq\u001b[0m\u001b[0;34m.\u001b[0m\u001b[0mINTEREST_BY_REGION_URL\u001b[0m\u001b[0;34m,\u001b[0m\u001b[0;34m\u001b[0m\u001b[0;34m\u001b[0m\u001b[0m\n\u001b[1;32m    342\u001b[0m             \u001b[0mmethod\u001b[0m\u001b[0;34m=\u001b[0m\u001b[0mTrendReq\u001b[0m\u001b[0;34m.\u001b[0m\u001b[0mGET_METHOD\u001b[0m\u001b[0;34m,\u001b[0m\u001b[0;34m\u001b[0m\u001b[0;34m\u001b[0m\u001b[0m\n",
            "\u001b[0;32m/usr/local/lib/python3.10/dist-packages/pytrends/request.py\u001b[0m in \u001b[0;36m_get_data\u001b[0;34m(self, url, method, trim_chars, **kwargs)\u001b[0m\n\u001b[1;32m    157\u001b[0m         \u001b[0;32melse\u001b[0m\u001b[0;34m:\u001b[0m\u001b[0;34m\u001b[0m\u001b[0;34m\u001b[0m\u001b[0m\n\u001b[1;32m    158\u001b[0m             \u001b[0;32mif\u001b[0m \u001b[0mresponse\u001b[0m\u001b[0;34m.\u001b[0m\u001b[0mstatus_code\u001b[0m \u001b[0;34m==\u001b[0m \u001b[0mstatus_codes\u001b[0m\u001b[0;34m.\u001b[0m\u001b[0mcodes\u001b[0m\u001b[0;34m.\u001b[0m\u001b[0mtoo_many_requests\u001b[0m\u001b[0;34m:\u001b[0m\u001b[0;34m\u001b[0m\u001b[0;34m\u001b[0m\u001b[0m\n\u001b[0;32m--> 159\u001b[0;31m                 \u001b[0;32mraise\u001b[0m \u001b[0mexceptions\u001b[0m\u001b[0;34m.\u001b[0m\u001b[0mTooManyRequestsError\u001b[0m\u001b[0;34m.\u001b[0m\u001b[0mfrom_response\u001b[0m\u001b[0;34m(\u001b[0m\u001b[0mresponse\u001b[0m\u001b[0;34m)\u001b[0m\u001b[0;34m\u001b[0m\u001b[0;34m\u001b[0m\u001b[0m\n\u001b[0m\u001b[1;32m    160\u001b[0m             \u001b[0;32mraise\u001b[0m \u001b[0mexceptions\u001b[0m\u001b[0;34m.\u001b[0m\u001b[0mResponseError\u001b[0m\u001b[0;34m.\u001b[0m\u001b[0mfrom_response\u001b[0m\u001b[0;34m(\u001b[0m\u001b[0mresponse\u001b[0m\u001b[0;34m)\u001b[0m\u001b[0;34m\u001b[0m\u001b[0;34m\u001b[0m\u001b[0m\n\u001b[1;32m    161\u001b[0m \u001b[0;34m\u001b[0m\u001b[0m\n",
            "\u001b[0;31mTooManyRequestsError\u001b[0m: The request failed: Google returned a response with code 429"
          ]
        }
      ]
    },
    {
      "cell_type": "code",
      "source": [
        "#now cities\n",
        "\n",
        "# Google Trend decoder\n",
        "import pandas as pd\n",
        "from pytrends.request import TrendReq\n",
        "from datetime import datetime, timedelta\n",
        "import time\n",
        "\n",
        "pytrends = TrendReq(hl='en-US', tz=360)\n",
        "kw_list = [\"mudanças climáticas\"]\n",
        "\n",
        "# Define the time frame\n",
        "start_date = datetime(2018, 2, 1)\n",
        "end_date = datetime(2020, 1, 31)\n",
        "\n",
        "#do DF because that's missing...\n",
        "\n",
        "# List of the Provinces in Indonesia\n",
        "Indonesia_provinces = [\n",
        "    \"ID-AC\", \"ID-BA\", \"ID-BB\", \"ID-BT\", \"ID-BE\", \"ID-JT\", \"ID-KT\", \"ID-PT\",\n",
        "    \"ID-ST\", \"ID-JI\", \"ID-KI\", \"\tID-NT\", \"\tID-GO\", \"ID-PE\", \"ID-JK\", \"ID-JA\",\n",
        "    \"ID-LA\", \"ID-MA\", \"ID-KU\", \"ID-MU\", \"ID-SA\", \"ID-SU\", \"ID-PA\", \"ID-RI\",\n",
        "    \"ID-KR\", \"ID-SG\", \"ID-KS\", \"ID-PS\", \"ID-SN\", \"ID-SS\", \"ID-PD\", \"ID-JB\",\n",
        "    \"ID-KB\", \"ID-NB\", \"ID-PB\", \"ID-SR\", \"ID-SB\", \"ID-YO\"\n",
        "]\n",
        "\n",
        "# Create a list of intervals covering every month\n",
        "intervals = []\n",
        "current_date = start_date\n",
        "while current_date <= end_date:\n",
        "    current_month_end = current_date + pd.offsets.MonthEnd(0)\n",
        "    intervals.append((current_date, current_month_end))\n",
        "    current_date = current_month_end + timedelta(days=1)\n",
        "\n",
        "# Iterate through each interval\n",
        "for interval in intervals:\n",
        "    start_interval, end_interval = interval\n",
        "\n",
        "    for state in Indonesia_provinces:\n",
        "        try:\n",
        "            pytrends.build_payload(kw_list, cat=0, timeframe=f'{start_interval.strftime(\"%Y-%m-%d\")} {end_interval.strftime(\"%Y-%m-%d\")}', geo=state, gprop='')\n",
        "\n",
        "            # Store the interest by city data in a DataFrame\n",
        "            interest_by_city_df = pytrends.interest_by_region(resolution='CITY', inc_low_vol=True, inc_geo_code=False)\n",
        "\n",
        "            # Reset index to include city names in the DataFrame\n",
        "            interest_by_city_df.reset_index(inplace=True)\n",
        "\n",
        "            # Add columns for the month searched and state\n",
        "            interest_by_city_df['Month_Searched'] = start_interval.strftime(\"%Y-%m\")\n",
        "            interest_by_city_df['State'] = state\n",
        "\n",
        "            # Export the DataFrame to a CSV file\n",
        "            csv_filename = f'interest_by_city_data_{state}_{start_interval.strftime(\"%Y%m\")}.csv'\n",
        "            interest_by_city_df.to_csv(csv_filename, index=False)\n",
        "\n",
        "            print(f\"Processed: {state} - {start_interval.strftime('%Y-%m')}\")\n",
        "        except Exception as e:\n",
        "            print(f\"Error processing {state} - {start_interval.strftime('%Y-%m')}: {e}\")\n",
        "\n",
        "        # Sleep for 3 seconds to avoid rate-limiting\n",
        "        time.sleep(3)\n",
        "\n",
        "print(\"done\")"
      ],
      "metadata": {
        "id": "_GCxLLQ7Icbz"
      },
      "execution_count": null,
      "outputs": []
    }
  ]
}